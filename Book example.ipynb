{
 "cells": [
  {
   "cell_type": "markdown",
   "id": "52354ad0",
   "metadata": {},
   "source": [
    "#"
   ]
  },
  {
   "cell_type": "markdown",
   "id": "bff2c3b7",
   "metadata": {},
   "source": [
    "# Example re-write story"
   ]
  },
  {
   "cell_type": "code",
   "execution_count": 3,
   "id": "67cea45b",
   "metadata": {},
   "outputs": [],
   "source": [
    "import openai\n",
    "import os\n",
    "\n",
    "from dotenv import load_dotenv, find_dotenv\n",
    "_ = load_dotenv(find_dotenv())\n",
    "\n",
    "openai.organization = os.getenv(\"OPENAI_ORGANISATION\")\n",
    "openai.api_key = os.getenv(\"OPENAI_APIKEY\")"
   ]
  },
  {
   "cell_type": "code",
   "execution_count": 4,
   "id": "f3772bc8",
   "metadata": {},
   "outputs": [],
   "source": [
    "def get_completion(prompt, model=\"gpt-3.5-turbo\"):\n",
    "    messages = [{\"role\": \"user\", \"content\": prompt}]\n",
    "    response = openai.ChatCompletion.create(\n",
    "        model=model,\n",
    "        messages=messages,\n",
    "        temperature=0, # this is the degree of randomness of the model's output\n",
    "    )\n",
    "    return response.choices[0].message[\"content\"]"
   ]
  },
  {
   "cell_type": "markdown",
   "id": "0853b1a3",
   "metadata": {},
   "source": [
    "### Réecriture plagiat texte"
   ]
  },
  {
   "cell_type": "code",
   "execution_count": 6,
   "id": "d93aa0d7",
   "metadata": {},
   "outputs": [
    {
     "name": "stdout",
     "output_type": "stream",
     "text": [
      "<title>: Le prince en quête d'une véritable princesse.\n",
      "\n",
      "<story>: Il était une fois un prince qui cherchait désespérément une princesse véritable pour l'épouser. Il parcourut le monde entier, mais toutes les prétendantes qu'il rencontra semblaient suspectes à ses yeux. Il était sur le point de perdre espoir lorsqu'un soir, une violente tempête éclata. Des éclairs zébraient le ciel, le tonnerre grondait et la pluie tombait à verse. C'est alors qu'on frappa à la porte du château.\n",
      "\n",
      "Le vieux roi ouvrit la porte et découvrit une jeune femme trempée jusqu'aux os. Elle prétendit être une princesse véritable, mais le prince n'était pas convaincu. La vieille reine décida alors de mettre à l'épreuve la prétendante. Elle retira toute la literie du lit de la princesse et y plaça un petit pois au fond. Elle empila ensuite vingt matelas sur le pois, puis vingt édredons par-dessus les matelas.\n",
      "\n",
      "Le lendemain matin, la princesse se plaignit d'avoir passé une nuit épouvantable. Elle avait senti quelque chose de dur sous les matelas et les édredons, ce qui avait rendu sa peau toute violette. Le prince comprit alors qu'il avait enfin trouvé une véritable princesse, car seule une femme ayant une peau aussi délicate aurait pu sentir un petit pois sous vingt matelas et vingt édredons.\n",
      "\n",
      "Le prince épousa donc la princesse et le petit pois fut conservé dans le musée du château, en souvenir de cette épreuve. Cette histoire est aussi véritable que la princesse elle-même.\n"
     ]
    }
   ],
   "source": [
    "prompt = f\"\"\"\n",
    "tu dois réecrire une histoire en utilisant le même style.\n",
    "\n",
    "<title>: La princesse sur un pois.\n",
    "\n",
    "<story>: Il y avait une fois un prince qui voulait épouser une princesse, mais une princesse véritable.\\\n",
    "Il fit donc le tour du monde pour en trouver une, et, à la vérité, les princesses ne manquaient pas ; \\\n",
    "mais il ne pouvait jamais s’assurer si c’étaient de véritables princesses ; toujours quelque chose en elles \\\n",
    "lui paraissait suspect. En conséquence, il revint bien affligé de n’avoir pas trouvé ce qu’il désirait. \\\n",
    "Un soir, il faisait un temps horrible, les éclairs se croisaient, le tonnerre grondait, la pluie tombait à torrent ;\\\n",
    "c’était épouvantable ! Quelqu’un frappa à la porte du château, et le vieux roi s’empressa d’ouvrir.\\\n",
    "C’était une princesse. Mais grand Dieu ! comme la pluie et l’orage l’avaient arrangée ! \\\n",
    "L’eau ruisselait de ses cheveux et de ses vêtements, entrait par le nez dans ses souliers, et sortait par le talon. \\\n",
    "Néanmoins, elle se donna pour une véritable princesse.\\\n",
    "« C’est ce que nous saurons bientôt ! » pensa la vieille reine. \\\n",
    "Puis, sans rien dire, elle entra dans la chambre à coucher, ôta toute la literie, et mit un pois au fond du lit. \\\n",
    "Ensuite elle prit vingt matelas, qu’elle étendit sur le pois, et encore vingt édredons qu’elle entassa par-dessus\\\n",
    "les matelas.\\\n",
    "C’était la couche destinée à la princesse ; le lendemain matin, on lui demanda comment elle avait passé la nuit.\\\n",
    "« Bien mal ! répondit-elle ; à peine si j’ai fermé les yeux de toute la nuit ! Dieu sait ce qu’il y avait dans \\\n",
    "le lit ; c’était quelque chose de dur qui m’a rendu la peau toute violette. Quel supplice ? »\\\n",
    "À cette réponse, on reconnut que c’était une véritable princesse, puisqu’elle avait senti un pois à travers \\\n",
    "vingt matelas et vingt édredons. Quelle femme, sinon une princesse, pouvait avoir la peau aussi délicate ?\\\n",
    "Le prince, bien convaincu que c’était une véritable princesse, la prit pour femme, et le pois fut placé \\\n",
    "dans le musée, où il doit se trouver encore, à moins qu’un amateur ne l’ait enlevé.\\\n",
    "Voilà une histoire aussi véritable que la princesse !\n",
    "\n",
    "\"\"\"\n",
    "response = get_completion(prompt)\n",
    "print(response)"
   ]
  },
  {
   "cell_type": "code",
   "execution_count": null,
   "id": "c5a85d8e",
   "metadata": {},
   "outputs": [],
   "source": [
    "\n",
    "La princesse sur un pois\n",
    "\n",
    "\n",
    "\n",
    "\n",
    "Il y avait une fois un prince qui voulait épouser une princesse, mais une princesse véritable. Il fit donc le tour du monde pour en trouver une, et, à la vérité, les princesses ne manquaient pas ; mais il ne pouvait jamais s’assurer si c’étaient de véritables princesses ; toujours quelque chose en elles lui paraissait suspect. En conséquence, il revint bien affligé de n’avoir pas trouvé ce qu’il désirait.\n",
    "\n",
    "Un soir, il faisait un temps horrible, les éclairs se croisaient, le tonnerre grondait, la pluie tombait à torrent ; c’était épouvantable ! Quelqu’un frappa à la porte du château, et le vieux roi s’empressa d’ouvrir.\n",
    "\n",
    "C’était une princesse. Mais grand Dieu ! comme la pluie et l’orage l’avaient arrangée ! L’eau ruisselait de ses cheveux et de ses vêtements, entrait par le nez dans ses souliers, et sortait par le talon. Néanmoins, elle se donna pour une véritable princesse.\n",
    "\n",
    "« C’est ce que nous saurons bientôt ! » pensa la vieille reine. Puis, sans rien dire, elle entra dans la chambre à coucher, ôta toute la literie, et mit un pois au fond du lit. Ensuite elle prit vingt matelas, qu’elle étendit sur le pois, et encore vingt édredons qu’elle entassa par-dessus les matelas.\n",
    "\n",
    "C’était la couche destinée à la princesse ; le lendemain matin, on lui demanda comment elle avait passé la nuit.\n",
    "\n",
    "« Bien mal ! répondit-elle ; à peine si j’ai fermé les yeux de toute la nuit ! Dieu sait ce qu’il y avait dans le lit ; c’était quelque chose de dur qui m’a rendu la peau toute violette. Quel supplice ? »\n",
    "\n",
    "À cette réponse, on reconnut que c’était une véritable princesse, puisqu’elle avait senti un pois à travers vingt matelas et vingt édredons. Quelle femme, sinon une princesse, pouvait avoir la peau aussi délicate ?\n",
    "\n",
    "Le prince, bien convaincu que c’était une véritable princesse, la prit pour femme, et le pois fut placé dans le musée, où il doit se trouver encore, à moins qu’un amateur ne l’ait enlevé.\n",
    "\n",
    "Voilà une histoire aussi véritable que la princesse !"
   ]
  },
  {
   "cell_type": "markdown",
   "id": "95b72020",
   "metadata": {},
   "source": [
    "### Réecriture plagiat style"
   ]
  },
  {
   "cell_type": "code",
   "execution_count": 7,
   "id": "965f2af0",
   "metadata": {},
   "outputs": [
    {
     "name": "stdout",
     "output_type": "stream",
     "text": [
      "<title>: Le chat et la souris.\n",
      "\n",
      "<story>: Il y avait une fois un chat qui aimait chasser les souris, mais il ne pouvait jamais attraper une souris véritable. Il passait ses journées à courir après elles, mais toujours quelque chose en elles lui paraissait suspect. En conséquence, il rentrait bien affligé de n’avoir pas attrapé ce qu’il désirait. Un soir, il faisait un temps horrible, les éclairs se croisaient, le tonnerre grondait, la pluie tombait à torrent ; c’était épouvantable ! Quelqu’un frappa à la porte de la maison, et le chat s’empressa d’ouvrir. C’était une souris. Mais grand Dieu ! comme la pluie et l’orage l’avaient arrangée ! L’eau ruisselait de ses poils et de sa queue, entrait par le nez dans ses oreilles, et sortait par la queue. Néanmoins, elle se donna pour une véritable souris. « C’est ce que nous saurons bientôt ! » pensa le chat. Puis, sans rien dire, il mit un morceau de fromage dans un piège à souris. Ensuite, il attendit patiemment que la souris tombe dans le piège. C’était le test destiné à la souris ; le lendemain matin, on lui demanda comment elle avait passé la nuit. « Bien mal ! répondit-elle ; j’ai mangé un morceau de fromage empoisonné et j’ai failli mourir ! Quel supplice ? » À cette réponse, on reconnut que c’était une véritable souris, puisqu’elle avait goûté le fromage empoisonné. Quel animal, sinon une souris, pouvait avoir un tel appétit ? Le chat, bien convaincu que c’était une véritable souris, la laissa partir, et le morceau de fromage empoisonné fut jeté à la poubelle, où il doit se trouver encore, à moins qu’un rat ne l’ait mangé. Voilà une histoire aussi véritable que la souris !\n"
     ]
    }
   ],
   "source": [
    "prompt = f\"\"\"\n",
    "tu dois écrire une histoire complètement différente en utilisant le même style.\n",
    "\n",
    "<title>: La princesse sur un pois.\n",
    "\n",
    "<story>: Il y avait une fois un prince qui voulait épouser une princesse, mais une princesse véritable.\\\n",
    "Il fit donc le tour du monde pour en trouver une, et, à la vérité, les princesses ne manquaient pas ; \\\n",
    "mais il ne pouvait jamais s’assurer si c’étaient de véritables princesses ; toujours quelque chose en elles \\\n",
    "lui paraissait suspect. En conséquence, il revint bien affligé de n’avoir pas trouvé ce qu’il désirait. \\\n",
    "Un soir, il faisait un temps horrible, les éclairs se croisaient, le tonnerre grondait, la pluie tombait à torrent ;\\\n",
    "c’était épouvantable ! Quelqu’un frappa à la porte du château, et le vieux roi s’empressa d’ouvrir.\\\n",
    "C’était une princesse. Mais grand Dieu ! comme la pluie et l’orage l’avaient arrangée ! \\\n",
    "L’eau ruisselait de ses cheveux et de ses vêtements, entrait par le nez dans ses souliers, et sortait par le talon. \\\n",
    "Néanmoins, elle se donna pour une véritable princesse.\\\n",
    "« C’est ce que nous saurons bientôt ! » pensa la vieille reine. \\\n",
    "Puis, sans rien dire, elle entra dans la chambre à coucher, ôta toute la literie, et mit un pois au fond du lit. \\\n",
    "Ensuite elle prit vingt matelas, qu’elle étendit sur le pois, et encore vingt édredons qu’elle entassa par-dessus\\\n",
    "les matelas.\\\n",
    "C’était la couche destinée à la princesse ; le lendemain matin, on lui demanda comment elle avait passé la nuit.\\\n",
    "« Bien mal ! répondit-elle ; à peine si j’ai fermé les yeux de toute la nuit ! Dieu sait ce qu’il y avait dans \\\n",
    "le lit ; c’était quelque chose de dur qui m’a rendu la peau toute violette. Quel supplice ? »\\\n",
    "À cette réponse, on reconnut que c’était une véritable princesse, puisqu’elle avait senti un pois à travers \\\n",
    "vingt matelas et vingt édredons. Quelle femme, sinon une princesse, pouvait avoir la peau aussi délicate ?\\\n",
    "Le prince, bien convaincu que c’était une véritable princesse, la prit pour femme, et le pois fut placé \\\n",
    "dans le musée, où il doit se trouver encore, à moins qu’un amateur ne l’ait enlevé.\\\n",
    "Voilà une histoire aussi véritable que la princesse !\n",
    "\n",
    "\"\"\"\n",
    "response = get_completion(prompt)\n",
    "print(response)"
   ]
  },
  {
   "cell_type": "code",
   "execution_count": null,
   "id": "7de0ff17",
   "metadata": {},
   "outputs": [],
   "source": [
    "prompt = f\"\"\"\n",
    "tu dois écrire une histoire complètement différente, avec des phrases différentes et des idées d'intrigue différentes.\n",
    "\n",
    "<title>: La princesse sur un pois.\n",
    "\n",
    "<story>: Il y avait une fois un prince qui voulait épouser une princesse, mais une princesse véritable.\\\n",
    "Il fit donc le tour du monde pour en trouver une, et, à la vérité, les princesses ne manquaient pas ; \\\n",
    "mais il ne pouvait jamais s’assurer si c’étaient de véritables princesses ; toujours quelque chose en elles \\\n",
    "lui paraissait suspect. En conséquence, il revint bien affligé de n’avoir pas trouvé ce qu’il désirait. \\\n",
    "Un soir, il faisait un temps horrible, les éclairs se croisaient, le tonnerre grondait, la pluie tombait à torrent ;\\\n",
    "c’était épouvantable ! Quelqu’un frappa à la porte du château, et le vieux roi s’empressa d’ouvrir.\\\n",
    "C’était une princesse. Mais grand Dieu ! comme la pluie et l’orage l’avaient arrangée ! \\\n",
    "L’eau ruisselait de ses cheveux et de ses vêtements, entrait par le nez dans ses souliers, et sortait par le talon. \\\n",
    "Néanmoins, elle se donna pour une véritable princesse.\\\n",
    "« C’est ce que nous saurons bientôt ! » pensa la vieille reine. \\\n",
    "Puis, sans rien dire, elle entra dans la chambre à coucher, ôta toute la literie, et mit un pois au fond du lit. \\\n",
    "Ensuite elle prit vingt matelas, qu’elle étendit sur le pois, et encore vingt édredons qu’elle entassa par-dessus\\\n",
    "les matelas.\\\n",
    "C’était la couche destinée à la princesse ; le lendemain matin, on lui demanda comment elle avait passé la nuit.\\\n",
    "« Bien mal ! répondit-elle ; à peine si j’ai fermé les yeux de toute la nuit ! Dieu sait ce qu’il y avait dans \\\n",
    "le lit ; c’était quelque chose de dur qui m’a rendu la peau toute violette. Quel supplice ? »\\\n",
    "À cette réponse, on reconnut que c’était une véritable princesse, puisqu’elle avait senti un pois à travers \\\n",
    "vingt matelas et vingt édredons. Quelle femme, sinon une princesse, pouvait avoir la peau aussi délicate ?\\\n",
    "Le prince, bien convaincu que c’était une véritable princesse, la prit pour femme, et le pois fut placé \\\n",
    "dans le musée, où il doit se trouver encore, à moins qu’un amateur ne l’ait enlevé.\\\n",
    "Voilà une histoire aussi véritable que la princesse !\n",
    "\n",
    "\"\"\"\n",
    "response = get_completion(prompt)\n",
    "print(response)"
   ]
  },
  {
   "cell_type": "raw",
   "id": "a7634cec",
   "metadata": {},
   "source": [
    "Il y avait une fois une princesse qui vivait dans un château entouré de jardins luxuriants et de fontaines cristallines. Elle était belle, intelligente et aimée de tous ceux qui la connaissaient. Cependant, elle était très malheureuse car elle ne pouvait pas trouver l'amour. Elle avait rencontré de nombreux prétendants, mais aucun d'entre eux ne semblait être le bon.\n",
    "\n",
    "Un jour, alors qu'elle se promenait dans les jardins, elle rencontra un jeune homme qui était différent de tous les autres. Il était gentil, attentionné et avait un sourire qui faisait fondre son cœur. Ils passèrent des heures à parler et à rire ensemble, et la princesse sut qu'elle avait enfin trouvé l'amour.\n",
    "\n",
    "Cependant, il y avait un problème. Le jeune homme était un simple jardinier et la princesse savait que son père, le roi, ne l'accepterait jamais comme son gendre. Elle décida donc de garder leur amour secret et de continuer à le voir en secret.\n",
    "\n",
    "Mais un jour, le roi découvrit leur amour et fut furieux. Il ordonna que le jeune homme soit banni du royaume et que la princesse soit enfermée dans sa chambre jusqu'à ce qu'elle oublie son amour pour lui.\n",
    "\n",
    "La princesse était désespérée. Elle ne pouvait pas imaginer vivre sans son amour. Elle décida donc de s'échapper de sa chambre et de partir à la recherche de son bien-aimé. Elle traversa des forêts sombres, des rivières tumultueuses et des montagnes escarpées jusqu'à ce qu'elle arrive dans un petit village où elle avait entendu dire que son amour avait été vu pour la dernière fois.\n",
    "\n",
    "Elle chercha partout, mais ne put pas le trouver. Elle était sur le point de renoncer quand elle entendit une voix familière l'appeler. C'était son amour, qui avait été capturé par un méchant sorcier et emprisonné dans une tour.\n",
    "\n",
    "La princesse était déterminée à le sauver. Elle escalada la tour, combattit le sorcier et libéra son amour. Ils s'enfuirent ensemble, heureux et amoureux.\n",
    "\n",
    "Ils retournèrent au château, où le roi était furieux de les voir ensemble. Mais la princesse était déterminée à être avec son amour, peu importe ce que son père pensait. Finalement, le roi comprit que leur amour était vrai et il accepta leur mariage.\n",
    "\n",
    "La princesse et son amour vécurent heureux pour toujours, et leur amour était si fort qu'il était connu dans tout le royaume comme l'amour sur un pois."
   ]
  },
  {
   "cell_type": "code",
   "execution_count": null,
   "id": "f2cb819a",
   "metadata": {},
   "outputs": [],
   "source": []
  }
 ],
 "metadata": {
  "kernelspec": {
   "display_name": "Python 3 (ipykernel)",
   "language": "python",
   "name": "python3"
  },
  "language_info": {
   "codemirror_mode": {
    "name": "ipython",
    "version": 3
   },
   "file_extension": ".py",
   "mimetype": "text/x-python",
   "name": "python",
   "nbconvert_exporter": "python",
   "pygments_lexer": "ipython3",
   "version": "3.11.3"
  }
 },
 "nbformat": 4,
 "nbformat_minor": 5
}
